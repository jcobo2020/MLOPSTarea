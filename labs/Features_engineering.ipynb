{
 "cells": [
  {
   "cell_type": "markdown",
   "id": "86aa92e4",
   "metadata": {
    "tags": []
   },
   "source": [
    "# MLE challenge - Features engineering"
   ]
  },
  {
   "cell_type": "markdown",
   "id": "97797e24",
   "metadata": {},
   "source": [
    "### Notebook 1"
   ]
  },
  {
   "cell_type": "markdown",
   "id": "8331a455",
   "metadata": {},
   "source": [
    "In this notebook we compute five features for the **credit risk** dataset. \n",
    "Each row in the dataset consists of the credit that a user took on a given date.\n",
    "\n",
    "These features are roughly defined as follows:\n",
    "\n",
    "**nb_previous_loans:** number of loans granted to a given user, before the current loan.\n",
    "\n",
    "**avg_amount_loans_previous:** average amount of loans granted to a user, before the current rating.\n",
    "\n",
    "**age:** user age in years.\n",
    "\n",
    "**years_on_the_job:** years the user has been in employment.\n",
    "\n",
    "**flag_own_car:** flag that indicates if the user has his own car.\n",
    "\n"
   ]
  },
  {
   "cell_type": "code",
   "execution_count": 4,
   "id": "1972e258",
   "metadata": {},
   "outputs": [],
   "source": [
    "\n",
    "import pandas as pd"
   ]
  },
  {
   "cell_type": "code",
   "execution_count": 6,
   "id": "1eaf984f",
   "metadata": {},
   "outputs": [],
   "source": [
    "df = pd.read_csv('../data/input/dataset_credit_risk.csv')"
   ]
  },
  {
   "cell_type": "code",
   "execution_count": 7,
   "id": "91f346ce",
   "metadata": {},
   "outputs": [
    {
     "data": {
      "text/plain": [
       "(777715, 24)"
      ]
     },
     "execution_count": 7,
     "metadata": {},
     "output_type": "execute_result"
    }
   ],
   "source": [
    "df.shape"
   ]
  },
  {
   "cell_type": "code",
   "execution_count": 8,
   "id": "355a0331",
   "metadata": {
    "scrolled": true
   },
   "outputs": [
    {
     "data": {
      "text/html": [
       "<div>\n",
       "<style scoped>\n",
       "    .dataframe tbody tr th:only-of-type {\n",
       "        vertical-align: middle;\n",
       "    }\n",
       "\n",
       "    .dataframe tbody tr th {\n",
       "        vertical-align: top;\n",
       "    }\n",
       "\n",
       "    .dataframe thead th {\n",
       "        text-align: right;\n",
       "    }\n",
       "</style>\n",
       "<table border=\"1\" class=\"dataframe\">\n",
       "  <thead>\n",
       "    <tr style=\"text-align: right;\">\n",
       "      <th></th>\n",
       "      <th>loan_id</th>\n",
       "      <th>id</th>\n",
       "      <th>code_gender</th>\n",
       "      <th>flag_own_car</th>\n",
       "      <th>flag_own_realty</th>\n",
       "      <th>cnt_children</th>\n",
       "      <th>amt_income_total</th>\n",
       "      <th>name_income_type</th>\n",
       "      <th>name_education_type</th>\n",
       "      <th>name_family_status</th>\n",
       "      <th>...</th>\n",
       "      <th>flag_work_phone</th>\n",
       "      <th>flag_phone</th>\n",
       "      <th>flag_email</th>\n",
       "      <th>occupation_type</th>\n",
       "      <th>cnt_fam_members</th>\n",
       "      <th>status</th>\n",
       "      <th>birthday</th>\n",
       "      <th>job_start_date</th>\n",
       "      <th>loan_date</th>\n",
       "      <th>loan_amount</th>\n",
       "    </tr>\n",
       "  </thead>\n",
       "  <tbody>\n",
       "    <tr>\n",
       "      <th>0</th>\n",
       "      <td>1008</td>\n",
       "      <td>5008804</td>\n",
       "      <td>M</td>\n",
       "      <td>Y</td>\n",
       "      <td>Y</td>\n",
       "      <td>0</td>\n",
       "      <td>427500.0</td>\n",
       "      <td>Working</td>\n",
       "      <td>Higher education</td>\n",
       "      <td>Civil marriage</td>\n",
       "      <td>...</td>\n",
       "      <td>1</td>\n",
       "      <td>0</td>\n",
       "      <td>0</td>\n",
       "      <td>NaN</td>\n",
       "      <td>2.0</td>\n",
       "      <td>0</td>\n",
       "      <td>1988-11-04</td>\n",
       "      <td>2009-04-11</td>\n",
       "      <td>2019-02-01</td>\n",
       "      <td>102.283361</td>\n",
       "    </tr>\n",
       "    <tr>\n",
       "      <th>1</th>\n",
       "      <td>1000</td>\n",
       "      <td>5008804</td>\n",
       "      <td>M</td>\n",
       "      <td>Y</td>\n",
       "      <td>Y</td>\n",
       "      <td>0</td>\n",
       "      <td>427500.0</td>\n",
       "      <td>Working</td>\n",
       "      <td>Higher education</td>\n",
       "      <td>Civil marriage</td>\n",
       "      <td>...</td>\n",
       "      <td>1</td>\n",
       "      <td>0</td>\n",
       "      <td>0</td>\n",
       "      <td>NaN</td>\n",
       "      <td>2.0</td>\n",
       "      <td>0</td>\n",
       "      <td>1988-11-04</td>\n",
       "      <td>2009-04-11</td>\n",
       "      <td>2019-02-15</td>\n",
       "      <td>136.602049</td>\n",
       "    </tr>\n",
       "  </tbody>\n",
       "</table>\n",
       "<p>2 rows × 24 columns</p>\n",
       "</div>"
      ],
      "text/plain": [
       "   loan_id       id code_gender flag_own_car flag_own_realty  cnt_children  \\\n",
       "0     1008  5008804           M            Y               Y             0   \n",
       "1     1000  5008804           M            Y               Y             0   \n",
       "\n",
       "   amt_income_total name_income_type name_education_type name_family_status  \\\n",
       "0          427500.0          Working    Higher education     Civil marriage   \n",
       "1          427500.0          Working    Higher education     Civil marriage   \n",
       "\n",
       "   ... flag_work_phone  flag_phone  flag_email  occupation_type  \\\n",
       "0  ...               1           0           0              NaN   \n",
       "1  ...               1           0           0              NaN   \n",
       "\n",
       "   cnt_fam_members  status    birthday job_start_date  loan_date  loan_amount  \n",
       "0              2.0       0  1988-11-04     2009-04-11 2019-02-01   102.283361  \n",
       "1              2.0       0  1988-11-04     2009-04-11 2019-02-15   136.602049  \n",
       "\n",
       "[2 rows x 24 columns]"
      ]
     },
     "execution_count": 8,
     "metadata": {},
     "output_type": "execute_result"
    }
   ],
   "source": [
    "df = df.sort_values(by=[\"id\", \"loan_date\"])\n",
    "df = df.reset_index(drop=True)\n",
    "df[\"loan_date\"] = pd.to_datetime(df.loan_date)\n",
    "df.head(2)"
   ]
  },
  {
   "cell_type": "markdown",
   "id": "4e25b5cd",
   "metadata": {},
   "source": [
    "#### Feature nb_previous_loans"
   ]
  },
  {
   "cell_type": "code",
   "execution_count": 9,
   "id": "a52083be",
   "metadata": {},
   "outputs": [],
   "source": [
    "df_grouped = df.groupby(\"id\")\n",
    "df[\"nb_previous_loans\"] = df_grouped[\"loan_date\"].rank(method=\"first\") - 1"
   ]
  },
  {
   "cell_type": "markdown",
   "id": "be778c3a",
   "metadata": {},
   "source": [
    "#### Feature avg_amount_loans_previous"
   ]
  },
  {
   "cell_type": "code",
   "execution_count": 10,
   "id": "8480e4c3-8a4d-4cc9-a3a4-48a8cf2a8d3c",
   "metadata": {},
   "outputs": [],
   "source": [
    "df['avg_amount_loans_previous'] = (\n",
    "    df.groupby('id')['loan_amount'].apply(lambda x: x.shift().expanding().mean())\n",
    ")"
   ]
  },
  {
   "cell_type": "markdown",
   "id": "e2e743fb",
   "metadata": {},
   "source": [
    "#### Feature age"
   ]
  },
  {
   "cell_type": "code",
   "execution_count": 11,
   "id": "a6433fee",
   "metadata": {},
   "outputs": [],
   "source": [
    "from datetime import datetime, date"
   ]
  },
  {
   "cell_type": "code",
   "execution_count": 12,
   "id": "2d5ee386",
   "metadata": {},
   "outputs": [],
   "source": [
    "df['birthday'] = pd.to_datetime(df['birthday'], errors='coerce')\n"
   ]
  },
  {
   "cell_type": "code",
   "execution_count": 13,
   "id": "4a2628da",
   "metadata": {
    "scrolled": true
   },
   "outputs": [],
   "source": [
    "df['age'] = (pd.to_datetime('today').normalize() - df['birthday']).dt.days // 365"
   ]
  },
  {
   "cell_type": "markdown",
   "id": "b358b9e1",
   "metadata": {},
   "source": [
    "#### Feature years_on_the_job"
   ]
  },
  {
   "cell_type": "code",
   "execution_count": 14,
   "id": "c655109b",
   "metadata": {},
   "outputs": [],
   "source": [
    "df['job_start_date'] = pd.to_datetime(df['job_start_date'], errors='coerce')"
   ]
  },
  {
   "cell_type": "code",
   "execution_count": 15,
   "id": "a04d6133",
   "metadata": {},
   "outputs": [],
   "source": [
    "df['years_on_the_job'] = (pd.to_datetime('today').normalize() - df['job_start_date']).dt.days // 365"
   ]
  },
  {
   "cell_type": "markdown",
   "id": "e058043b",
   "metadata": {},
   "source": [
    "#### Feature flag_own_car"
   ]
  },
  {
   "cell_type": "code",
   "execution_count": 16,
   "id": "8469bffe",
   "metadata": {},
   "outputs": [],
   "source": [
    "df['flag_own_car'] = df.flag_own_car.apply(lambda x : 0 if x == 'N' else 1)"
   ]
  },
  {
   "cell_type": "markdown",
   "id": "6213c289",
   "metadata": {},
   "source": [
    "## Save dataset for model training"
   ]
  },
  {
   "cell_type": "code",
   "execution_count": 17,
   "id": "1f4d8b46",
   "metadata": {},
   "outputs": [],
   "source": [
    "df = df[['id', 'age', 'years_on_the_job', 'nb_previous_loans', 'avg_amount_loans_previous', 'flag_own_car', 'status']]\n"
   ]
  },
  {
   "cell_type": "code",
   "execution_count": 18,
   "id": "46a14cc8",
   "metadata": {},
   "outputs": [],
   "source": [
    "df.to_csv('../data/output/train_model.csv', index=False)"
   ]
  },
  {
   "cell_type": "code",
   "execution_count": null,
   "id": "02bd6b22-558d-469f-b938-acb1a0d8b3d2",
   "metadata": {},
   "outputs": [],
   "source": []
  }
 ],
 "metadata": {
  "kernelspec": {
   "display_name": "Python 3 (ipykernel)",
   "language": "python",
   "name": "python3"
  },
  "language_info": {
   "codemirror_mode": {
    "name": "ipython",
    "version": 3
   },
   "file_extension": ".py",
   "mimetype": "text/x-python",
   "name": "python",
   "nbconvert_exporter": "python",
   "pygments_lexer": "ipython3",
   "version": "3.9.10"
  }
 },
 "nbformat": 4,
 "nbformat_minor": 5
}
