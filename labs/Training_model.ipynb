{
 "cells": [
  {
   "cell_type": "markdown",
   "id": "8fa07a4f",
   "metadata": {},
   "source": [
    "# MLE challenge - Train model notebook"
   ]
  },
  {
   "cell_type": "markdown",
   "id": "8c09cfde",
   "metadata": {},
   "source": [
    "### Notebook 2"
   ]
  },
  {
   "cell_type": "markdown",
   "id": "b8c189b6",
   "metadata": {},
   "source": [
    "In this notebook, we train the model with a few features (for reasons of time and complexity in solving the challenge). It also shows how to persist the model in a file, load it into memory and then make a predict.\n",
    "\n"
   ]
  },
  {
   "cell_type": "code",
   "execution_count": 3,
   "id": "b6ff383b",
   "metadata": {},
   "outputs": [],
   "source": [
    "import pandas as pd\n",
    "\n",
    "import matplotlib.pyplot as plt\n",
    "%matplotlib inline\n",
    "\n",
    "from imblearn.over_sampling import SMOTE\n",
    "from sklearn.model_selection import train_test_split\n",
    "from sklearn.metrics import (\n",
    "    accuracy_score, confusion_matrix, recall_score, \n",
    "    plot_confusion_matrix, precision_score, plot_roc_curve\n",
    ")\n",
    "\n",
    "from sklearn.ensemble import RandomForestClassifier"
   ]
  },
  {
   "cell_type": "markdown",
   "id": "01bc180c",
   "metadata": {},
   "source": [
    "#### Read dataset"
   ]
  },
  {
   "cell_type": "code",
   "execution_count": 4,
   "id": "c31ed055",
   "metadata": {},
   "outputs": [],
   "source": [
    "df = pd.read_csv('../data/output/train_model.csv')"
   ]
  },
  {
   "cell_type": "code",
   "execution_count": 5,
   "id": "cb449ae8",
   "metadata": {},
   "outputs": [
    {
     "data": {
      "text/html": [
       "<div>\n",
       "<style scoped>\n",
       "    .dataframe tbody tr th:only-of-type {\n",
       "        vertical-align: middle;\n",
       "    }\n",
       "\n",
       "    .dataframe tbody tr th {\n",
       "        vertical-align: top;\n",
       "    }\n",
       "\n",
       "    .dataframe thead th {\n",
       "        text-align: right;\n",
       "    }\n",
       "</style>\n",
       "<table border=\"1\" class=\"dataframe\">\n",
       "  <thead>\n",
       "    <tr style=\"text-align: right;\">\n",
       "      <th></th>\n",
       "      <th>id</th>\n",
       "      <th>age</th>\n",
       "      <th>years_on_the_job</th>\n",
       "      <th>nb_previous_loans</th>\n",
       "      <th>avg_amount_loans_previous</th>\n",
       "      <th>flag_own_car</th>\n",
       "      <th>status</th>\n",
       "    </tr>\n",
       "  </thead>\n",
       "  <tbody>\n",
       "    <tr>\n",
       "      <th>0</th>\n",
       "      <td>5008804</td>\n",
       "      <td>33</td>\n",
       "      <td>12.0</td>\n",
       "      <td>0.0</td>\n",
       "      <td>NaN</td>\n",
       "      <td>1</td>\n",
       "      <td>0</td>\n",
       "    </tr>\n",
       "    <tr>\n",
       "      <th>1</th>\n",
       "      <td>5008804</td>\n",
       "      <td>33</td>\n",
       "      <td>12.0</td>\n",
       "      <td>1.0</td>\n",
       "      <td>102.283361</td>\n",
       "      <td>1</td>\n",
       "      <td>0</td>\n",
       "    </tr>\n",
       "    <tr>\n",
       "      <th>2</th>\n",
       "      <td>5008804</td>\n",
       "      <td>33</td>\n",
       "      <td>12.0</td>\n",
       "      <td>2.0</td>\n",
       "      <td>119.442705</td>\n",
       "      <td>1</td>\n",
       "      <td>0</td>\n",
       "    </tr>\n",
       "    <tr>\n",
       "      <th>3</th>\n",
       "      <td>5008804</td>\n",
       "      <td>33</td>\n",
       "      <td>12.0</td>\n",
       "      <td>3.0</td>\n",
       "      <td>117.873035</td>\n",
       "      <td>1</td>\n",
       "      <td>0</td>\n",
       "    </tr>\n",
       "    <tr>\n",
       "      <th>4</th>\n",
       "      <td>5008804</td>\n",
       "      <td>33</td>\n",
       "      <td>12.0</td>\n",
       "      <td>4.0</td>\n",
       "      <td>114.289538</td>\n",
       "      <td>1</td>\n",
       "      <td>0</td>\n",
       "    </tr>\n",
       "  </tbody>\n",
       "</table>\n",
       "</div>"
      ],
      "text/plain": [
       "        id  age  years_on_the_job  nb_previous_loans  \\\n",
       "0  5008804   33              12.0                0.0   \n",
       "1  5008804   33              12.0                1.0   \n",
       "2  5008804   33              12.0                2.0   \n",
       "3  5008804   33              12.0                3.0   \n",
       "4  5008804   33              12.0                4.0   \n",
       "\n",
       "   avg_amount_loans_previous  flag_own_car  status  \n",
       "0                        NaN             1       0  \n",
       "1                 102.283361             1       0  \n",
       "2                 119.442705             1       0  \n",
       "3                 117.873035             1       0  \n",
       "4                 114.289538             1       0  "
      ]
     },
     "execution_count": 5,
     "metadata": {},
     "output_type": "execute_result"
    }
   ],
   "source": [
    "df.head()"
   ]
  },
  {
   "cell_type": "code",
   "execution_count": 6,
   "id": "e15b7502",
   "metadata": {},
   "outputs": [
    {
     "data": {
      "text/plain": [
       "id                             int64\n",
       "age                            int64\n",
       "years_on_the_job             float64\n",
       "nb_previous_loans            float64\n",
       "avg_amount_loans_previous    float64\n",
       "flag_own_car                   int64\n",
       "status                         int64\n",
       "dtype: object"
      ]
     },
     "execution_count": 6,
     "metadata": {},
     "output_type": "execute_result"
    }
   ],
   "source": [
    "df.dtypes"
   ]
  },
  {
   "cell_type": "code",
   "execution_count": 7,
   "id": "06c6c8cb",
   "metadata": {},
   "outputs": [
    {
     "data": {
      "text/plain": [
       "<AxesSubplot:>"
      ]
     },
     "execution_count": 7,
     "metadata": {},
     "output_type": "execute_result"
    },
    {
     "data": {
      "image/png": "[encoded data removed]",
      "text/plain": [
       "<Figure size 432x288 with 1 Axes>"
      ]
     },
     "metadata": {
      "needs_background": "light"
     },
     "output_type": "display_data"
    }
   ],
   "source": [
    "df.status.hist()"
   ]
  },
  {
   "cell_type": "code",
   "execution_count": 8,
   "id": "cc3f51e7",
   "metadata": {},
   "outputs": [],
   "source": [
    "cust_df = df.copy()"
   ]
  },
  {
   "cell_type": "code",
   "execution_count": 9,
   "id": "4c560dc4",
   "metadata": {},
   "outputs": [],
   "source": [
    "cust_df.fillna(0, inplace=True)"
   ]
  },
  {
   "cell_type": "markdown",
   "id": "baa51909",
   "metadata": {},
   "source": [
    "## Train model"
   ]
  },
  {
   "cell_type": "code",
   "execution_count": 10,
   "id": "61545063",
   "metadata": {},
   "outputs": [],
   "source": [
    "Y = cust_df['status'].astype('int')\n",
    "\n",
    "cust_df.drop(['status'], axis=1, inplace=True)\n",
    "cust_df.drop(['id'], axis=1, inplace=True)\n",
    "\n",
    "\n",
    "X = cust_df"
   ]
  },
  {
   "cell_type": "code",
   "execution_count": 11,
   "id": "59b50a84",
   "metadata": {},
   "outputs": [],
   "source": [
    "X_train, X_test, y_train, y_test = train_test_split(X, Y, \n",
    "                                                    stratify=Y, test_size=0.3,\n",
    "                                                    random_state = 123)"
   ]
  },
  {
   "cell_type": "code",
   "execution_count": 12,
   "id": "23cab734-1a14-49ec-ab74-2400358964b9",
   "metadata": {},
   "outputs": [],
   "source": [
    "# Using Synthetic Minority Over-Sampling Technique(SMOTE) to overcome sample imbalance problem.\n",
    "#Y = Y.astype('int')\n",
    "X_train, y_train = SMOTE().fit_resample(X_train, y_train)\n",
    "X_train = pd.DataFrame(X_train, columns=X.columns)"
   ]
  },
  {
   "cell_type": "code",
   "execution_count": 13,
   "id": "e1d85d98-3ef1-4a9f-8d4a-38069bd7c9c2",
   "metadata": {},
   "outputs": [
    {
     "data": {
      "text/html": [
       "<div>\n",
       "<style scoped>\n",
       "    .dataframe tbody tr th:only-of-type {\n",
       "        vertical-align: middle;\n",
       "    }\n",
       "\n",
       "    .dataframe tbody tr th {\n",
       "        vertical-align: top;\n",
       "    }\n",
       "\n",
       "    .dataframe thead th {\n",
       "        text-align: right;\n",
       "    }\n",
       "</style>\n",
       "<table border=\"1\" class=\"dataframe\">\n",
       "  <thead>\n",
       "    <tr style=\"text-align: right;\">\n",
       "      <th></th>\n",
       "      <th>age</th>\n",
       "      <th>years_on_the_job</th>\n",
       "      <th>nb_previous_loans</th>\n",
       "      <th>avg_amount_loans_previous</th>\n",
       "      <th>flag_own_car</th>\n",
       "    </tr>\n",
       "  </thead>\n",
       "  <tbody>\n",
       "    <tr>\n",
       "      <th>0</th>\n",
       "      <td>52</td>\n",
       "      <td>13.000000</td>\n",
       "      <td>31.000000</td>\n",
       "      <td>153.289289</td>\n",
       "      <td>0</td>\n",
       "    </tr>\n",
       "    <tr>\n",
       "      <th>1</th>\n",
       "      <td>35</td>\n",
       "      <td>1.000000</td>\n",
       "      <td>11.000000</td>\n",
       "      <td>117.226176</td>\n",
       "      <td>0</td>\n",
       "    </tr>\n",
       "    <tr>\n",
       "      <th>2</th>\n",
       "      <td>60</td>\n",
       "      <td>0.000000</td>\n",
       "      <td>8.000000</td>\n",
       "      <td>122.305350</td>\n",
       "      <td>1</td>\n",
       "    </tr>\n",
       "    <tr>\n",
       "      <th>3</th>\n",
       "      <td>38</td>\n",
       "      <td>8.000000</td>\n",
       "      <td>23.000000</td>\n",
       "      <td>132.961910</td>\n",
       "      <td>1</td>\n",
       "    </tr>\n",
       "    <tr>\n",
       "      <th>4</th>\n",
       "      <td>53</td>\n",
       "      <td>9.000000</td>\n",
       "      <td>41.000000</td>\n",
       "      <td>133.774108</td>\n",
       "      <td>0</td>\n",
       "    </tr>\n",
       "    <tr>\n",
       "      <th>...</th>\n",
       "      <td>...</td>\n",
       "      <td>...</td>\n",
       "      <td>...</td>\n",
       "      <td>...</td>\n",
       "      <td>...</td>\n",
       "    </tr>\n",
       "    <tr>\n",
       "      <th>1072591</th>\n",
       "      <td>59</td>\n",
       "      <td>7.000000</td>\n",
       "      <td>38.778282</td>\n",
       "      <td>127.321255</td>\n",
       "      <td>0</td>\n",
       "    </tr>\n",
       "    <tr>\n",
       "      <th>1072592</th>\n",
       "      <td>67</td>\n",
       "      <td>0.000000</td>\n",
       "      <td>6.448480</td>\n",
       "      <td>121.032485</td>\n",
       "      <td>0</td>\n",
       "    </tr>\n",
       "    <tr>\n",
       "      <th>1072593</th>\n",
       "      <td>65</td>\n",
       "      <td>1.051801</td>\n",
       "      <td>42.000000</td>\n",
       "      <td>126.363147</td>\n",
       "      <td>0</td>\n",
       "    </tr>\n",
       "    <tr>\n",
       "      <th>1072594</th>\n",
       "      <td>40</td>\n",
       "      <td>6.853182</td>\n",
       "      <td>16.146818</td>\n",
       "      <td>123.845836</td>\n",
       "      <td>0</td>\n",
       "    </tr>\n",
       "    <tr>\n",
       "      <th>1072595</th>\n",
       "      <td>61</td>\n",
       "      <td>0.000000</td>\n",
       "      <td>9.863947</td>\n",
       "      <td>117.361357</td>\n",
       "      <td>0</td>\n",
       "    </tr>\n",
       "  </tbody>\n",
       "</table>\n",
       "<p>1072596 rows × 5 columns</p>\n",
       "</div>"
      ],
      "text/plain": [
       "         age  years_on_the_job  nb_previous_loans  avg_amount_loans_previous  \\\n",
       "0         52         13.000000          31.000000                 153.289289   \n",
       "1         35          1.000000          11.000000                 117.226176   \n",
       "2         60          0.000000           8.000000                 122.305350   \n",
       "3         38          8.000000          23.000000                 132.961910   \n",
       "4         53          9.000000          41.000000                 133.774108   \n",
       "...      ...               ...                ...                        ...   \n",
       "1072591   59          7.000000          38.778282                 127.321255   \n",
       "1072592   67          0.000000           6.448480                 121.032485   \n",
       "1072593   65          1.051801          42.000000                 126.363147   \n",
       "1072594   40          6.853182          16.146818                 123.845836   \n",
       "1072595   61          0.000000           9.863947                 117.361357   \n",
       "\n",
       "         flag_own_car  \n",
       "0                   0  \n",
       "1                   0  \n",
       "2                   1  \n",
       "3                   1  \n",
       "4                   0  \n",
       "...               ...  \n",
       "1072591             0  \n",
       "1072592             0  \n",
       "1072593             0  \n",
       "1072594             0  \n",
       "1072595             0  \n",
       "\n",
       "[1072596 rows x 5 columns]"
      ]
     },
     "execution_count": 13,
     "metadata": {},
     "output_type": "execute_result"
    }
   ],
   "source": [
    "X_train"
   ]
  },
  {
   "cell_type": "code",
   "execution_count": 14,
   "id": "46efa400",
   "metadata": {},
   "outputs": [
    {
     "name": "stdout",
     "output_type": "stream",
     "text": [
      "Accuracy Score is 0.9538\n",
      "Precision Score is 0.0444\n",
      "Recall Score is 0.0444\n",
      "        0     1\n",
      "0  222180  7662\n",
      "1    3117   356\n"
     ]
    },
    {
     "name": "stderr",
     "output_type": "stream",
     "text": [
      "/Users/jorgecobocoronel/Projects/MLOPSTarea/.venv/lib/python3.9/site-packages/sklearn/utils/deprecation.py:87: FutureWarning: Function plot_confusion_matrix is deprecated; Function `plot_confusion_matrix` is deprecated in 1.0 and will be removed in 1.2. Use one of the class methods: ConfusionMatrixDisplay.from_predictions or ConfusionMatrixDisplay.from_estimator.\n",
      "  warnings.warn(msg, category=FutureWarning)\n"
     ]
    },
    {
     "data": {
      "image/png": "[encoded data removed]",
      "text/plain": [
       "<Figure size 432x288 with 2 Axes>"
      ]
     },
     "metadata": {
      "needs_background": "light"
     },
     "output_type": "display_data"
    }
   ],
   "source": [
    "model = RandomForestClassifier(n_estimators=5)\n",
    "\n",
    "model.fit(X_train, y_train)\n",
    "y_predict = model.predict(X_test)\n",
    "\n",
    "print('Accuracy Score is {:.5}'.format(accuracy_score(y_test, y_predict)))\n",
    "print('Precision Score is {:.5}'.format(precision_score(y_test, y_predict)))\n",
    "print('Recall Score is {:.5}'.format(precision_score(y_test, y_predict)))\n",
    "print(pd.DataFrame(confusion_matrix(y_test,y_predict)))\n",
    "\n",
    "plot_confusion_matrix(model, X_test, y_test)  \n",
    "plt.show()\n"
   ]
  },
  {
   "cell_type": "code",
   "execution_count": 15,
   "id": "84a1be03",
   "metadata": {},
   "outputs": [
    {
     "name": "stderr",
     "output_type": "stream",
     "text": [
      "/Users/jorgecobocoronel/Projects/MLOPSTarea/.venv/lib/python3.9/site-packages/sklearn/utils/deprecation.py:87: FutureWarning: Function plot_roc_curve is deprecated; Function :func:`plot_roc_curve` is deprecated in 1.0 and will be removed in 1.2. Use one of the class methods: :meth:`sklearn.metric.RocCurveDisplay.from_predictions` or :meth:`sklearn.metric.RocCurveDisplay.from_estimator`.\n",
      "  warnings.warn(msg, category=FutureWarning)\n"
     ]
    },
    {
     "data": {
      "image/png": "[encoded data removed]",
      "text/plain": [
       "<Figure size 432x288 with 1 Axes>"
      ]
     },
     "metadata": {
      "needs_background": "light"
     },
     "output_type": "display_data"
    }
   ],
   "source": [
    "plot_roc_curve(model, X_test, y_test)\n",
    "plt.show()"
   ]
  },
  {
   "cell_type": "markdown",
   "id": "073a3147",
   "metadata": {},
   "source": [
    "## Model persistance"
   ]
  },
  {
   "cell_type": "code",
   "execution_count": 16,
   "id": "12d73a2f",
   "metadata": {},
   "outputs": [],
   "source": [
    "from joblib import dump, load"
   ]
  },
  {
   "cell_type": "code",
   "execution_count": 17,
   "id": "f391ecdc",
   "metadata": {
    "scrolled": true
   },
   "outputs": [
    {
     "data": {
      "text/plain": [
       "['../train_models/model_risk.joblib']"
      ]
     },
     "execution_count": 17,
     "metadata": {},
     "output_type": "execute_result"
    }
   ],
   "source": [
    "# dump model\n",
    "dump(model, '../train_models/model_risk.joblib') "
   ]
  },
  {
   "cell_type": "markdown",
   "id": "5aad1f36",
   "metadata": {},
   "source": [
    "### Load model & predict"
   ]
  },
  {
   "cell_type": "code",
   "execution_count": 18,
   "id": "41d4be40",
   "metadata": {},
   "outputs": [],
   "source": [
    "my_model = load('../train_models/model_risk.joblib') "
   ]
  },
  {
   "cell_type": "code",
   "execution_count": 27,
   "id": "7a6d0525",
   "metadata": {},
   "outputs": [],
   "source": [
    "# example dict 'user_id' -> features\n",
    "d = {\n",
    "    '5008804': [33, 12, 2, 119.44, 1],\n",
    "    '5008807': [65, 0, 1, 10000, 1]\n",
    "}"
   ]
  },
  {
   "cell_type": "code",
   "execution_count": 28,
   "id": "f716668c",
   "metadata": {
    "scrolled": true
   },
   "outputs": [
    {
     "name": "stderr",
     "output_type": "stream",
     "text": [
      "/Users/jorgecobocoronel/Projects/MLOPSTarea/.venv/lib/python3.9/site-packages/sklearn/base.py:450: UserWarning: X does not have valid feature names, but RandomForestClassifier was fitted with feature names\n",
      "  warnings.warn(\n"
     ]
    },
    {
     "data": {
      "text/plain": [
       "array([0])"
      ]
     },
     "execution_count": 28,
     "metadata": {},
     "output_type": "execute_result"
    }
   ],
   "source": [
    "my_model.predict([d['5008804']])"
   ]
  },
  {
   "cell_type": "code",
   "execution_count": null,
   "id": "a48db4de-7307-432f-828e-7dfb191b23cf",
   "metadata": {},
   "outputs": [],
   "source": []
  }
 ],
 "metadata": {
  "kernelspec": {
   "display_name": "Python 3 (ipykernel)",
   "language": "python",
   "name": "python3"
  },
  "language_info": {
   "codemirror_mode": {
    "name": "ipython",
    "version": 3
   },
   "file_extension": ".py",
   "mimetype": "text/x-python",
   "name": "python",
   "nbconvert_exporter": "python",
   "pygments_lexer": "ipython3",
   "version": "3.9.10"
  }
 },
 "nbformat": 4,
 "nbformat_minor": 5
}
